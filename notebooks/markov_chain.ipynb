{
 "cells": [
  {
   "cell_type": "code",
   "execution_count": 1,
   "metadata": {
    "collapsed": false
   },
   "outputs": [],
   "source": [
    "import sys\n",
    "\n",
    "sys.path.append(\"..\")\n",
    "import numpy as np\n",
    "from markov import Model, Chain\n"
   ]
  },
  {
   "cell_type": "markdown",
   "metadata": {},
   "source": [
    "# Cadenas de Markov\n",
    "\n",
    "Creemos un modelo de Markov que modele la transición de días soleados a lluviosos considerando las siguientes probabilidades:\n",
    "\n",
    "- La probabilidad de pasar de un día soleado a otro soleado es 0.75, y a un lluvioso 0.25\n",
    "- La probabilidad de lluvioso a lluvioso es 0.30, 0.70 de volver a soleado\n",
    "- Probabilidad primer día soleado: 0.85\n",
    "- Probabilidad primer día lluvioso: 0.16"
   ]
  },
  {
   "cell_type": "code",
   "execution_count": 2,
   "metadata": {
    "collapsed": false
   },
   "outputs": [],
   "source": [
    "transition_matrix = np.matrix([[0.75, 0.25], [0.70, 0.30]])\n",
    "initial_probabilities = np.array([0.85, 0.15])\n",
    "\n",
    "model = Model(transition_matrix, initial_probabilities, [\"soleado\", \"lluvioso\"])\n",
    "chain = Chain(model)"
   ]
  },
  {
   "cell_type": "code",
   "execution_count": 3,
   "metadata": {
    "collapsed": false
   },
   "outputs": [
    {
     "data": {
      "text/plain": [
       "soleado, soleado, soleado, soleado, soleado, soleado, soleado, lluvioso, soleado, lluvioso, soleado, soleado, lluvioso, soleado, lluvioso, soleado, lluvioso, soleado, soleado, soleado, soleado, soleado, lluvioso, soleado, soleado, soleado, soleado, soleado, lluvioso, soleado, soleado, soleado, soleado, lluvioso, soleado, soleado, soleado, soleado, soleado, soleado, soleado, soleado, soleado, soleado, soleado, soleado, lluvioso, soleado, lluvioso, soleado, soleado, soleado, lluvioso, lluvioso, lluvioso, soleado, soleado, soleado, soleado, soleado, soleado, lluvioso, lluvioso, soleado, soleado, soleado, soleado, soleado, lluvioso, soleado, soleado, soleado, soleado, lluvioso, soleado, soleado, lluvioso, soleado, soleado, soleado, soleado, soleado, soleado, soleado, soleado, soleado, lluvioso, lluvioso, soleado, soleado, soleado, soleado, soleado, soleado, soleado, soleado, soleado, lluvioso, soleado, soleado"
      ]
     },
     "execution_count": 3,
     "metadata": {},
     "output_type": "execute_result"
    }
   ],
   "source": [
    "chain.move(100)"
   ]
  },
  {
   "cell_type": "code",
   "execution_count": null,
   "metadata": {
    "collapsed": true
   },
   "outputs": [],
   "source": []
  }
 ],
 "metadata": {
  "kernelspec": {
   "display_name": "Python 3",
   "language": "python",
   "name": "python3"
  },
  "language_info": {
   "codemirror_mode": {
    "name": "ipython",
    "version": 3
   },
   "file_extension": ".py",
   "mimetype": "text/x-python",
   "name": "python",
   "nbconvert_exporter": "python",
   "pygments_lexer": "ipython3",
   "version": "3.5.1"
  }
 },
 "nbformat": 4,
 "nbformat_minor": 0
}
